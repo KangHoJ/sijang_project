{
 "cells": [
  {
   "cell_type": "code",
   "execution_count": 24,
   "metadata": {},
   "outputs": [],
   "source": [
    "import requests\n",
    "import os\n",
    "import pandas as pd\n",
    "import matplotlib.pyplot as plt\n",
    "import seaborn as sns\n",
    "\n",
    "key = os.getenv('key')\n",
    "id = os.getenv('id')\n",
    "def Data_load2():\n",
    "    basic_data = []\n",
    "    country_data = []\n",
    "    for action in ['dailySalesList', 'dailyCountyList']:\n",
    "        if action == 'dailySalesList':\n",
    "            url = f'http://www.kamis.or.kr/service/price/xml.do?action={action}&p_cert_key={key}&p_cert_id={id}&p_returntype=json'\n",
    "            response = requests.get(url)\n",
    "            data = response.json()\n",
    "            basic_data.extend(data['price'])\n",
    "        else:\n",
    "            for county in [1101,2100,2200,2300,2401,2501,2601,3111,3211,3311,3511,3711,3911,3113,3613,3714,3814,3145]:\n",
    "                url = f'http://www.kamis.or.kr/service/price/xml.do?action={action}&p_cert_key={key}&p_cert_id={id}&p_returntype=json&p_countycode={county}'\n",
    "                response = requests.get(url)\n",
    "                data = response.json()\n",
    "                country_data.extend(data['price'])\n",
    "        \n",
    "    return pd.DataFrame(basic_data) , pd.DataFrame(country_data) \n",
    "\n",
    "basic_data, country_data = Data_load2()"
   ]
  },
  {
   "cell_type": "code",
   "execution_count": 41,
   "metadata": {},
   "outputs": [
    {
     "data": {
      "text/plain": [
       "category_name\n",
       "과일류      1,990\n",
       "수산물      1,705\n",
       "식량작물    10,020\n",
       "식품      10,530\n",
       "채소류      1,025\n",
       "축산물      1,061\n",
       "특용작물     1,422\n",
       "Name: dpr1, dtype: object"
      ]
     },
     "execution_count": 41,
     "metadata": {},
     "output_type": "execute_result"
    }
   ],
   "source": [
    "country_data.groupby('category_name')['dpr1'].min()"
   ]
  },
  {
   "cell_type": "code",
   "execution_count": 50,
   "metadata": {},
   "outputs": [
    {
     "data": {
      "text/plain": [
       "Index(['county_code', 'county_name', 'product_cls_code', 'product_cls_name',\n",
       "       'category_code', 'category_name', 'productno', 'lastest_day',\n",
       "       'productName', 'item_name', 'unit', 'day1', 'dpr1', 'day2', 'dpr2',\n",
       "       'day3', 'dpr3', 'day4', 'dpr4', 'direction', 'value'],\n",
       "      dtype='object')"
      ]
     },
     "execution_count": 50,
     "metadata": {},
     "output_type": "execute_result"
    }
   ],
   "source": [
    "country_data.columns"
   ]
  },
  {
   "cell_type": "code",
   "execution_count": 54,
   "metadata": {},
   "outputs": [
    {
     "data": {
      "text/html": [
       "<div>\n",
       "<style scoped>\n",
       "    .dataframe tbody tr th:only-of-type {\n",
       "        vertical-align: middle;\n",
       "    }\n",
       "\n",
       "    .dataframe tbody tr th {\n",
       "        vertical-align: top;\n",
       "    }\n",
       "\n",
       "    .dataframe thead th {\n",
       "        text-align: right;\n",
       "    }\n",
       "</style>\n",
       "<table border=\"1\" class=\"dataframe\">\n",
       "  <thead>\n",
       "    <tr style=\"text-align: right;\">\n",
       "      <th></th>\n",
       "      <th>county_name</th>\n",
       "      <th>product_cls_name</th>\n",
       "      <th>category_name</th>\n",
       "      <th>productno</th>\n",
       "      <th>lastest_day</th>\n",
       "      <th>item_name</th>\n",
       "      <th>unit</th>\n",
       "      <th>day1</th>\n",
       "      <th>dpr1</th>\n",
       "      <th>day2</th>\n",
       "      <th>dpr2</th>\n",
       "      <th>day3</th>\n",
       "      <th>dpr3</th>\n",
       "      <th>day4</th>\n",
       "      <th>dpr4</th>\n",
       "      <th>direction</th>\n",
       "      <th>value</th>\n",
       "    </tr>\n",
       "  </thead>\n",
       "  <tbody>\n",
       "    <tr>\n",
       "      <th>0</th>\n",
       "      <td>서울</td>\n",
       "      <td>[소매, 소매]</td>\n",
       "      <td>식량작물</td>\n",
       "      <td>272</td>\n",
       "      <td>2024-03-21</td>\n",
       "      <td>쌀/20kg</td>\n",
       "      <td>20kg</td>\n",
       "      <td>당일</td>\n",
       "      <td>51,189</td>\n",
       "      <td>1일전</td>\n",
       "      <td>52,522</td>\n",
       "      <td>1개월전</td>\n",
       "      <td>54,744</td>\n",
       "      <td>1년전</td>\n",
       "      <td>49,189</td>\n",
       "      <td>0</td>\n",
       "      <td>2.5</td>\n",
       "    </tr>\n",
       "    <tr>\n",
       "      <th>1</th>\n",
       "      <td>서울</td>\n",
       "      <td>[소매, 소매]</td>\n",
       "      <td>식량작물</td>\n",
       "      <td>1537</td>\n",
       "      <td>2024-03-21</td>\n",
       "      <td>쌀/10kg</td>\n",
       "      <td>10kg</td>\n",
       "      <td>당일</td>\n",
       "      <td>29,331</td>\n",
       "      <td>1일전</td>\n",
       "      <td>29,109</td>\n",
       "      <td>1개월전</td>\n",
       "      <td>28,887</td>\n",
       "      <td>1년전</td>\n",
       "      <td>[]</td>\n",
       "      <td>1</td>\n",
       "      <td>0.8</td>\n",
       "    </tr>\n",
       "    <tr>\n",
       "      <th>2</th>\n",
       "      <td>서울</td>\n",
       "      <td>[소매, 소매]</td>\n",
       "      <td>식량작물</td>\n",
       "      <td>274</td>\n",
       "      <td>2024-03-21</td>\n",
       "      <td>찹쌀/일반계</td>\n",
       "      <td>1kg</td>\n",
       "      <td>당일</td>\n",
       "      <td>3,911</td>\n",
       "      <td>1일전</td>\n",
       "      <td>3,911</td>\n",
       "      <td>1개월전</td>\n",
       "      <td>3,643</td>\n",
       "      <td>1년전</td>\n",
       "      <td>3,539</td>\n",
       "      <td>2</td>\n",
       "      <td>0.0</td>\n",
       "    </tr>\n",
       "    <tr>\n",
       "      <th>3</th>\n",
       "      <td>서울</td>\n",
       "      <td>[소매, 소매]</td>\n",
       "      <td>식량작물</td>\n",
       "      <td>275</td>\n",
       "      <td>2024-03-21</td>\n",
       "      <td>콩/흰 콩(국산)</td>\n",
       "      <td>500g</td>\n",
       "      <td>당일</td>\n",
       "      <td>5,313</td>\n",
       "      <td>1일전</td>\n",
       "      <td>5,313</td>\n",
       "      <td>1개월전</td>\n",
       "      <td>5,228</td>\n",
       "      <td>1년전</td>\n",
       "      <td>6,367</td>\n",
       "      <td>2</td>\n",
       "      <td>0.0</td>\n",
       "    </tr>\n",
       "    <tr>\n",
       "      <th>4</th>\n",
       "      <td>서울</td>\n",
       "      <td>[소매, 소매]</td>\n",
       "      <td>식량작물</td>\n",
       "      <td>277</td>\n",
       "      <td>2024-03-21</td>\n",
       "      <td>팥/붉은 팥(국산)</td>\n",
       "      <td>500g</td>\n",
       "      <td>당일</td>\n",
       "      <td>8,859</td>\n",
       "      <td>1일전</td>\n",
       "      <td>8,859</td>\n",
       "      <td>1개월전</td>\n",
       "      <td>8,388</td>\n",
       "      <td>1년전</td>\n",
       "      <td>8,054</td>\n",
       "      <td>2</td>\n",
       "      <td>0.0</td>\n",
       "    </tr>\n",
       "  </tbody>\n",
       "</table>\n",
       "</div>"
      ],
      "text/plain": [
       "  county_name product_cls_name category_name productno lastest_day  \\\n",
       "0          서울         [소매, 소매]          식량작물       272  2024-03-21   \n",
       "1          서울         [소매, 소매]          식량작물      1537  2024-03-21   \n",
       "2          서울         [소매, 소매]          식량작물       274  2024-03-21   \n",
       "3          서울         [소매, 소매]          식량작물       275  2024-03-21   \n",
       "4          서울         [소매, 소매]          식량작물       277  2024-03-21   \n",
       "\n",
       "    item_name  unit day1    dpr1 day2    dpr2  day3    dpr3 day4    dpr4  \\\n",
       "0      쌀/20kg  20kg   당일  51,189  1일전  52,522  1개월전  54,744  1년전  49,189   \n",
       "1      쌀/10kg  10kg   당일  29,331  1일전  29,109  1개월전  28,887  1년전      []   \n",
       "2      찹쌀/일반계   1kg   당일   3,911  1일전   3,911  1개월전   3,643  1년전   3,539   \n",
       "3   콩/흰 콩(국산)  500g   당일   5,313  1일전   5,313  1개월전   5,228  1년전   6,367   \n",
       "4  팥/붉은 팥(국산)  500g   당일   8,859  1일전   8,859  1개월전   8,388  1년전   8,054   \n",
       "\n",
       "  direction value  \n",
       "0         0   2.5  \n",
       "1         1   0.8  \n",
       "2         2   0.0  \n",
       "3         2   0.0  \n",
       "4         2   0.0  "
      ]
     },
     "execution_count": 54,
     "metadata": {},
     "output_type": "execute_result"
    }
   ],
   "source": [
    "country_data = country_data.drop(['county_code','product_cls_code','category_code','productName'],axis=1)\n",
    "country_data.head()"
   ]
  },
  {
   "cell_type": "markdown",
   "metadata": {},
   "source": [
    "### 등락율 비교"
   ]
  },
  {
   "cell_type": "code",
   "execution_count": 71,
   "metadata": {},
   "outputs": [
    {
     "data": {
      "text/plain": [
       "value\n",
       "0.0     1305\n",
       "0.2       19\n",
       "1.8       17\n",
       "0.9       17\n",
       "0.1       17\n",
       "        ... \n",
       "24.7       1\n",
       "8.9        1\n",
       "17.0       1\n",
       "20.2       1\n",
       "23.5       1\n",
       "Name: count, Length: 217, dtype: int64"
      ]
     },
     "execution_count": 71,
     "metadata": {},
     "output_type": "execute_result"
    }
   ],
   "source": [
    "country_data['value'].value_counts()"
   ]
  },
  {
   "cell_type": "code",
   "execution_count": 72,
   "metadata": {},
   "outputs": [],
   "source": [
    "country_data['value'] = pd.to_numeric(country_data['value'])"
   ]
  },
  {
   "cell_type": "code",
   "execution_count": 78,
   "metadata": {},
   "outputs": [
    {
     "data": {
      "text/plain": [
       "category_name\n",
       "과일류     58.2\n",
       "수산물     43.1\n",
       "식량작물    15.0\n",
       "식품      28.7\n",
       "채소류     45.9\n",
       "축산물     25.9\n",
       "특용작물    31.0\n",
       "Name: value, dtype: float64"
      ]
     },
     "execution_count": 78,
     "metadata": {},
     "output_type": "execute_result"
    }
   ],
   "source": [
    "sorted_value.groupby('category_name')['value'].max()"
   ]
  },
  {
   "cell_type": "code",
   "execution_count": 86,
   "metadata": {},
   "outputs": [
    {
     "data": {
      "text/plain": [
       "category_name\n",
       "과일류     58.2\n",
       "수산물     43.1\n",
       "식량작물    15.0\n",
       "식품      28.7\n",
       "채소류     45.9\n",
       "축산물     25.9\n",
       "특용작물    31.0\n",
       "Name: value, dtype: float64"
      ]
     },
     "execution_count": 86,
     "metadata": {},
     "output_type": "execute_result"
    }
   ],
   "source": [
    "country_data.groupby('category_name')['value'].max()"
   ]
  },
  {
   "cell_type": "code",
   "execution_count": 114,
   "metadata": {},
   "outputs": [
    {
     "data": {
      "text/plain": [
       "category_name\n",
       "과일류     5\n",
       "수산물     5\n",
       "식량작물    5\n",
       "식품      5\n",
       "채소류     5\n",
       "축산물     5\n",
       "특용작물    5\n",
       "Name: count, dtype: int64"
      ]
     },
     "execution_count": 114,
     "metadata": {},
     "output_type": "execute_result"
    }
   ],
   "source": [
    "category_cheaper_data['category_name'].value_counts()"
   ]
  },
  {
   "cell_type": "code",
   "execution_count": 119,
   "metadata": {},
   "outputs": [
    {
     "data": {
      "text/plain": [
       "<Axes: xlabel='item_name', ylabel='value'>"
      ]
     },
     "execution_count": 119,
     "metadata": {},
     "output_type": "execute_result"
    },
    {
     "data": {
      "image/png": "[encoded data removed]",
      "text/plain": [
       "<Figure size 640x480 with 1 Axes>"
      ]
     },
     "metadata": {},
     "output_type": "display_data"
    }
   ],
   "source": [
    "plt.rcParams['font.family'] ='Malgun Gothic'\n",
    "plt.rcParams['axes.unicode_minus'] =False\n",
    "\n",
    "top_index = country_data.groupby('category_name')['value'].nlargest(5).index.values\n",
    "number_list = []\n",
    "for category_name, value in top_index:\n",
    "    number_list.append(int(value))\n",
    "category_cheaper_data = country_data.loc[number_list]\n",
    "\n",
    "fruit = category_cheaper_data[category_cheaper_data['category_name']=='과일류']\n",
    "su = category_cheaper_data[category_cheaper_data['category_name']=='수산물']\n",
    "sik = category_cheaper_data[category_cheaper_data['category_name']=='식량작물']\n",
    "food = category_cheaper_data[category_cheaper_data['category_name']=='식품']\n",
    "vegetable = category_cheaper_data[category_cheaper_data['category_name']=='채소류']\n",
    "livestock  = category_cheaper_data[category_cheaper_data['category_name']=='축산물']\n",
    "special = category_cheaper_data[category_cheaper_data['category_name']=='특용작물']\n",
    "sns.barplot(x=\"item_name\", y=\"value\" ,data=fruit)\n",
    "# category_cheaper_data"
   ]
  },
  {
   "cell_type": "code",
   "execution_count": 121,
   "metadata": {},
   "outputs": [
    {
     "name": "stderr",
     "output_type": "stream",
     "text": [
      "2024-03-22 14:54:38.451 \n",
      "  \u001b[33m\u001b[1mWarning:\u001b[0m to view this Streamlit app on a browser, run it with the following\n",
      "  command:\n",
      "\n",
      "    streamlit run c:\\Users\\User\\document\\공부\\project\\sijang_project\\myvenv\\Lib\\site-packages\\ipykernel_launcher.py [ARGUMENTS]\n"
     ]
    },
    {
     "data": {
      "text/plain": [
       "DeltaGenerator()"
      ]
     },
     "execution_count": 121,
     "metadata": {},
     "output_type": "execute_result"
    }
   ],
   "source": [
    "import streamlit as st\n",
    "import pandas as pd\n",
    "import plotly.express as px\n",
    "category_name = st.selectbox('카테고리 선택', category_cheaper_data['category_name'])\n",
    "selected_data = category_cheaper_data[category_cheaper_data['category_name'] == category_name]\n",
    "fig = px.bar(selected_data, x=\"item_name\", y=\"value\")\n",
    "st.plotly_chart(fig)"
   ]
  },
  {
   "cell_type": "code",
   "execution_count": 45,
   "metadata": {},
   "outputs": [
    {
     "data": {
      "text/plain": [
       "category_name\n",
       "채소류     799\n",
       "축산물     483\n",
       "과일류     212\n",
       "수산물     197\n",
       "식량작물    186\n",
       "식품      127\n",
       "특용작물    124\n",
       "Name: count, dtype: int64"
      ]
     },
     "execution_count": 45,
     "metadata": {},
     "output_type": "execute_result"
    }
   ],
   "source": [
    "country_data['category_name'].value_counts()"
   ]
  },
  {
   "cell_type": "code",
   "execution_count": 44,
   "metadata": {},
   "outputs": [
    {
     "data": {
      "text/plain": [
       "unit\n",
       "100g             775\n",
       "1kg              345\n",
       "1개               214\n",
       "10개              127\n",
       "10kg              75\n",
       "500g              64\n",
       "1마리               60\n",
       "20kg              50\n",
       "1포기               49\n",
       "2kg               38\n",
       "5kg               37\n",
       "1묶음               31\n",
       "4kg               30\n",
       "8kg               20\n",
       "40kg              19\n",
       "30구               18\n",
       "1L                18\n",
       "150g              17\n",
       "200g              17\n",
       "1봉                16\n",
       "30kg              15\n",
       "600g              14\n",
       "15kg              10\n",
       "2마리                9\n",
       "10구                7\n",
       "10kg(그물망 3포기)      5\n",
       "100개               5\n",
       "20개                5\n",
       "7.5kg              5\n",
       "22.5kg             5\n",
       "13kg               5\n",
       "12kg               5\n",
       "18kg               5\n",
       "17kg               5\n",
       "1.5kg              5\n",
       "50개                3\n",
       "Name: count, dtype: int64"
      ]
     },
     "execution_count": 44,
     "metadata": {},
     "output_type": "execute_result"
    }
   ],
   "source": [
    "country_data['unit'].value_counts()"
   ]
  },
  {
   "cell_type": "code",
   "execution_count": 36,
   "metadata": {},
   "outputs": [
    {
     "data": {
      "text/html": [
       "<div>\n",
       "<style scoped>\n",
       "    .dataframe tbody tr th:only-of-type {\n",
       "        vertical-align: middle;\n",
       "    }\n",
       "\n",
       "    .dataframe tbody tr th {\n",
       "        vertical-align: top;\n",
       "    }\n",
       "\n",
       "    .dataframe thead th {\n",
       "        text-align: right;\n",
       "    }\n",
       "</style>\n",
       "<table border=\"1\" class=\"dataframe\">\n",
       "  <thead>\n",
       "    <tr style=\"text-align: right;\">\n",
       "      <th></th>\n",
       "      <th>county_code</th>\n",
       "      <th>county_name</th>\n",
       "      <th>product_cls_code</th>\n",
       "      <th>product_cls_name</th>\n",
       "      <th>category_code</th>\n",
       "      <th>category_name</th>\n",
       "      <th>productno</th>\n",
       "      <th>lastest_day</th>\n",
       "      <th>productName</th>\n",
       "      <th>item_name</th>\n",
       "      <th>...</th>\n",
       "      <th>day1</th>\n",
       "      <th>dpr1</th>\n",
       "      <th>day2</th>\n",
       "      <th>dpr2</th>\n",
       "      <th>day3</th>\n",
       "      <th>dpr3</th>\n",
       "      <th>day4</th>\n",
       "      <th>dpr4</th>\n",
       "      <th>direction</th>\n",
       "      <th>value</th>\n",
       "    </tr>\n",
       "  </thead>\n",
       "  <tbody>\n",
       "    <tr>\n",
       "      <th>0</th>\n",
       "      <td>1101</td>\n",
       "      <td>서울</td>\n",
       "      <td>[01, 01]</td>\n",
       "      <td>[소매, 소매]</td>\n",
       "      <td>100</td>\n",
       "      <td>식량작물</td>\n",
       "      <td>272</td>\n",
       "      <td>2024-03-21</td>\n",
       "      <td>쌀/20kg</td>\n",
       "      <td>쌀/20kg</td>\n",
       "      <td>...</td>\n",
       "      <td>당일</td>\n",
       "      <td>51,189</td>\n",
       "      <td>1일전</td>\n",
       "      <td>52,522</td>\n",
       "      <td>1개월전</td>\n",
       "      <td>54,744</td>\n",
       "      <td>1년전</td>\n",
       "      <td>49,189</td>\n",
       "      <td>0</td>\n",
       "      <td>2.5</td>\n",
       "    </tr>\n",
       "    <tr>\n",
       "      <th>1</th>\n",
       "      <td>1101</td>\n",
       "      <td>서울</td>\n",
       "      <td>[01, 01]</td>\n",
       "      <td>[소매, 소매]</td>\n",
       "      <td>100</td>\n",
       "      <td>식량작물</td>\n",
       "      <td>1537</td>\n",
       "      <td>2024-03-21</td>\n",
       "      <td>쌀/10kg</td>\n",
       "      <td>쌀/10kg</td>\n",
       "      <td>...</td>\n",
       "      <td>당일</td>\n",
       "      <td>29,331</td>\n",
       "      <td>1일전</td>\n",
       "      <td>29,109</td>\n",
       "      <td>1개월전</td>\n",
       "      <td>28,887</td>\n",
       "      <td>1년전</td>\n",
       "      <td>[]</td>\n",
       "      <td>1</td>\n",
       "      <td>0.8</td>\n",
       "    </tr>\n",
       "    <tr>\n",
       "      <th>2</th>\n",
       "      <td>1101</td>\n",
       "      <td>서울</td>\n",
       "      <td>[01, 01]</td>\n",
       "      <td>[소매, 소매]</td>\n",
       "      <td>100</td>\n",
       "      <td>식량작물</td>\n",
       "      <td>274</td>\n",
       "      <td>2024-03-21</td>\n",
       "      <td>찹쌀/일반계</td>\n",
       "      <td>찹쌀/일반계</td>\n",
       "      <td>...</td>\n",
       "      <td>당일</td>\n",
       "      <td>3,911</td>\n",
       "      <td>1일전</td>\n",
       "      <td>3,911</td>\n",
       "      <td>1개월전</td>\n",
       "      <td>3,643</td>\n",
       "      <td>1년전</td>\n",
       "      <td>3,539</td>\n",
       "      <td>2</td>\n",
       "      <td>0.0</td>\n",
       "    </tr>\n",
       "  </tbody>\n",
       "</table>\n",
       "<p>3 rows × 21 columns</p>\n",
       "</div>"
      ],
      "text/plain": [
       "  county_code county_name product_cls_code product_cls_name category_code  \\\n",
       "0        1101          서울         [01, 01]         [소매, 소매]           100   \n",
       "1        1101          서울         [01, 01]         [소매, 소매]           100   \n",
       "2        1101          서울         [01, 01]         [소매, 소매]           100   \n",
       "\n",
       "  category_name productno lastest_day productName item_name  ... day1    dpr1  \\\n",
       "0          식량작물       272  2024-03-21      쌀/20kg    쌀/20kg  ...   당일  51,189   \n",
       "1          식량작물      1537  2024-03-21      쌀/10kg    쌀/10kg  ...   당일  29,331   \n",
       "2          식량작물       274  2024-03-21      찹쌀/일반계    찹쌀/일반계  ...   당일   3,911   \n",
       "\n",
       "  day2    dpr2  day3    dpr3 day4    dpr4 direction value  \n",
       "0  1일전  52,522  1개월전  54,744  1년전  49,189         0   2.5  \n",
       "1  1일전  29,109  1개월전  28,887  1년전      []         1   0.8  \n",
       "2  1일전   3,911  1개월전   3,643  1년전   3,539         2   0.0  \n",
       "\n",
       "[3 rows x 21 columns]"
      ]
     },
     "execution_count": 36,
     "metadata": {},
     "output_type": "execute_result"
    }
   ],
   "source": [
    "country_data.head(3)"
   ]
  },
  {
   "cell_type": "code",
   "execution_count": 31,
   "metadata": {},
   "outputs": [
    {
     "data": {
      "text/html": [
       "<div>\n",
       "<style scoped>\n",
       "    .dataframe tbody tr th:only-of-type {\n",
       "        vertical-align: middle;\n",
       "    }\n",
       "\n",
       "    .dataframe tbody tr th {\n",
       "        vertical-align: top;\n",
       "    }\n",
       "\n",
       "    .dataframe thead th {\n",
       "        text-align: right;\n",
       "    }\n",
       "</style>\n",
       "<table border=\"1\" class=\"dataframe\">\n",
       "  <thead>\n",
       "    <tr style=\"text-align: right;\">\n",
       "      <th></th>\n",
       "      <th>day1</th>\n",
       "      <th>dpr1</th>\n",
       "      <th>day2</th>\n",
       "      <th>dpr2</th>\n",
       "      <th>day3</th>\n",
       "      <th>dpr3</th>\n",
       "      <th>day4</th>\n",
       "      <th>dpr4</th>\n",
       "    </tr>\n",
       "  </thead>\n",
       "  <tbody>\n",
       "    <tr>\n",
       "      <th>0</th>\n",
       "      <td>당일</td>\n",
       "      <td>51,189</td>\n",
       "      <td>1일전</td>\n",
       "      <td>52,522</td>\n",
       "      <td>1개월전</td>\n",
       "      <td>54,744</td>\n",
       "      <td>1년전</td>\n",
       "      <td>49,189</td>\n",
       "    </tr>\n",
       "    <tr>\n",
       "      <th>1</th>\n",
       "      <td>당일</td>\n",
       "      <td>29,331</td>\n",
       "      <td>1일전</td>\n",
       "      <td>29,109</td>\n",
       "      <td>1개월전</td>\n",
       "      <td>28,887</td>\n",
       "      <td>1년전</td>\n",
       "      <td>[]</td>\n",
       "    </tr>\n",
       "    <tr>\n",
       "      <th>2</th>\n",
       "      <td>당일</td>\n",
       "      <td>3,911</td>\n",
       "      <td>1일전</td>\n",
       "      <td>3,911</td>\n",
       "      <td>1개월전</td>\n",
       "      <td>3,643</td>\n",
       "      <td>1년전</td>\n",
       "      <td>3,539</td>\n",
       "    </tr>\n",
       "    <tr>\n",
       "      <th>3</th>\n",
       "      <td>당일</td>\n",
       "      <td>5,313</td>\n",
       "      <td>1일전</td>\n",
       "      <td>5,313</td>\n",
       "      <td>1개월전</td>\n",
       "      <td>5,228</td>\n",
       "      <td>1년전</td>\n",
       "      <td>6,367</td>\n",
       "    </tr>\n",
       "    <tr>\n",
       "      <th>4</th>\n",
       "      <td>당일</td>\n",
       "      <td>8,859</td>\n",
       "      <td>1일전</td>\n",
       "      <td>8,859</td>\n",
       "      <td>1개월전</td>\n",
       "      <td>8,388</td>\n",
       "      <td>1년전</td>\n",
       "      <td>8,054</td>\n",
       "    </tr>\n",
       "    <tr>\n",
       "      <th>...</th>\n",
       "      <td>...</td>\n",
       "      <td>...</td>\n",
       "      <td>...</td>\n",
       "      <td>...</td>\n",
       "      <td>...</td>\n",
       "      <td>...</td>\n",
       "      <td>...</td>\n",
       "      <td>...</td>\n",
       "    </tr>\n",
       "    <tr>\n",
       "      <th>2123</th>\n",
       "      <td>당일</td>\n",
       "      <td>9,600</td>\n",
       "      <td>1일전</td>\n",
       "      <td>9,600</td>\n",
       "      <td>1개월전</td>\n",
       "      <td>19,200</td>\n",
       "      <td>1년전</td>\n",
       "      <td>[]</td>\n",
       "    </tr>\n",
       "    <tr>\n",
       "      <th>2124</th>\n",
       "      <td>당일</td>\n",
       "      <td>33,800</td>\n",
       "      <td>1일전</td>\n",
       "      <td>33,800</td>\n",
       "      <td>1개월전</td>\n",
       "      <td>33,800</td>\n",
       "      <td>1년전</td>\n",
       "      <td>[]</td>\n",
       "    </tr>\n",
       "    <tr>\n",
       "      <th>2125</th>\n",
       "      <td>당일</td>\n",
       "      <td>5,480</td>\n",
       "      <td>1일전</td>\n",
       "      <td>5,480</td>\n",
       "      <td>1개월전</td>\n",
       "      <td>5,480</td>\n",
       "      <td>1년전</td>\n",
       "      <td>[]</td>\n",
       "    </tr>\n",
       "    <tr>\n",
       "      <th>2126</th>\n",
       "      <td>당일</td>\n",
       "      <td>10,800</td>\n",
       "      <td>1일전</td>\n",
       "      <td>10,800</td>\n",
       "      <td>1개월전</td>\n",
       "      <td>10,800</td>\n",
       "      <td>1년전</td>\n",
       "      <td>[]</td>\n",
       "    </tr>\n",
       "    <tr>\n",
       "      <th>2127</th>\n",
       "      <td>당일</td>\n",
       "      <td>9,480</td>\n",
       "      <td>1일전</td>\n",
       "      <td>9,480</td>\n",
       "      <td>1개월전</td>\n",
       "      <td>9,480</td>\n",
       "      <td>1년전</td>\n",
       "      <td>[]</td>\n",
       "    </tr>\n",
       "  </tbody>\n",
       "</table>\n",
       "<p>2128 rows × 8 columns</p>\n",
       "</div>"
      ],
      "text/plain": [
       "     day1    dpr1 day2    dpr2  day3    dpr3 day4    dpr4\n",
       "0      당일  51,189  1일전  52,522  1개월전  54,744  1년전  49,189\n",
       "1      당일  29,331  1일전  29,109  1개월전  28,887  1년전      []\n",
       "2      당일   3,911  1일전   3,911  1개월전   3,643  1년전   3,539\n",
       "3      당일   5,313  1일전   5,313  1개월전   5,228  1년전   6,367\n",
       "4      당일   8,859  1일전   8,859  1개월전   8,388  1년전   8,054\n",
       "...   ...     ...  ...     ...   ...     ...  ...     ...\n",
       "2123   당일   9,600  1일전   9,600  1개월전  19,200  1년전      []\n",
       "2124   당일  33,800  1일전  33,800  1개월전  33,800  1년전      []\n",
       "2125   당일   5,480  1일전   5,480  1개월전   5,480  1년전      []\n",
       "2126   당일  10,800  1일전  10,800  1개월전  10,800  1년전      []\n",
       "2127   당일   9,480  1일전   9,480  1개월전   9,480  1년전      []\n",
       "\n",
       "[2128 rows x 8 columns]"
      ]
     },
     "execution_count": 31,
     "metadata": {},
     "output_type": "execute_result"
    }
   ],
   "source": [
    "country_data[['day1','dpr1'\t,'day2'\t,'dpr2'\t,'day3'\t,'dpr3' ,'day4','dpr4']]"
   ]
  },
  {
   "cell_type": "code",
   "execution_count": 20,
   "metadata": {},
   "outputs": [],
   "source": [
    "country_data['product_cls_name'] = country_data['product_cls_name'].str.replace('[', '')"
   ]
  },
  {
   "cell_type": "code",
   "execution_count": 26,
   "metadata": {},
   "outputs": [
    {
     "data": {
      "text/plain": [
       "category_name\n",
       "채소류     799\n",
       "축산물     483\n",
       "과일류     212\n",
       "수산물     197\n",
       "식량작물    186\n",
       "식품      127\n",
       "특용작물    124\n",
       "Name: count, dtype: int64"
      ]
     },
     "execution_count": 26,
     "metadata": {},
     "output_type": "execute_result"
    }
   ],
   "source": [
    "country_data['category_name'].value_counts()"
   ]
  },
  {
   "cell_type": "code",
   "execution_count": 11,
   "metadata": {},
   "outputs": [
    {
     "data": {
      "text/plain": [
       "Index(['county_code', 'county_name', 'product_cls_code', 'product_cls_name',\n",
       "       'category_code', 'category_name', 'productno', 'lastest_day',\n",
       "       'productName', 'item_name', 'unit', 'day1', 'dpr1', 'day2', 'dpr2',\n",
       "       'day3', 'dpr3', 'day4', 'dpr4', 'direction', 'value'],\n",
       "      dtype='object')"
      ]
     },
     "execution_count": 11,
     "metadata": {},
     "output_type": "execute_result"
    }
   ],
   "source": [
    "country_data.columns"
   ]
  }
 ],
 "metadata": {
  "kernelspec": {
   "display_name": "myvenv",
   "language": "python",
   "name": "python3"
  },
  "language_info": {
   "codemirror_mode": {
    "name": "ipython",
    "version": 3
   },
   "file_extension": ".py",
   "mimetype": "text/x-python",
   "name": "python",
   "nbconvert_exporter": "python",
   "pygments_lexer": "ipython3",
   "version": "3.11.8"
  }
 },
 "nbformat": 4,
 "nbformat_minor": 2
}
